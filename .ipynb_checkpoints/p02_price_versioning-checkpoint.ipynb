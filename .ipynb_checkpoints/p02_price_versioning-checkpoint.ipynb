{
 "cells": [
  {
   "cell_type": "markdown",
   "metadata": {},
   "source": [
    "## Price Versioning\n",
    "\n",
    "#### Author: Hao Zheng\n",
    "\n",
    "The Versioning is a business practice in which a company produces different models of essentially the same product and then charges different prices for each model. In this way, the business is attempting to attract higher prices based on the value a customer perceives.\n",
    "\n",
    "In this project, we will lead you through examples to talk about why creating different version can bring more profits to the companies while the customers are still willing to pay for it. We encourage you to create your own Jupytor notebook and follow along. You can also download this notebook together with any affiliated data in the [Notebooks and Data](https://github.com/Master-of-Business-Analytics/Notebooks_and_Data) GitHub repository. Alternatively, if you do not have Python or Jupyter Notebook installed yet, you may experiment with a virtual notebook by launching Binder or Syzygy below (learn more about these two tools in the [Resource](https://analytics-at-sauder.github.io/resource.html) tab). \n",
    "\n",
    "<a href=\"https://ubc.syzygy.ca/jupyter/hub/user-redirect/git-pull?repo=https%3A%2F%2Fgithub.com%2FAnalytics-at-Sauder%2FProject_02_Price_Versioning&urlpath=tree%2FProject_02_Price_Versioning%2Fp02_price_versioning.ipynb&branch=master\" target=\"_blank\" class=\"button\">Launch Syzygy (UBC)</a>\n",
    "\n",
    "<a href=\"https://pims.syzygy.ca/jupyter/hub/user-redirect/git-pull?repo=https%3A%2F%2Fgithub.com%2FAnalytics-at-Sauder%2FProject_02_Price_Versioning&urlpath=tree%2FProject_02_Price_Versioning%2Fp02_price_versioning.ipynb&branch=master\" target=\"_blank\" class=\"button\">Launch Syzygy (Google)</a>\n",
    "\n",
    "<a href=\"https://mybinder.org/v2/gh/Analytics-at-Sauder/Project_02_Price_Versioning/master?filepath=p02_price_versioning.ipynb\" target=\"_blank\" class=\"button\">Launch Binder</a>"
   ]
  },
  {
   "cell_type": "markdown",
   "metadata": {},
   "source": [
    "## Business Problems\n",
    "\n",
    "---"
   ]
  },
  {
   "cell_type": "markdown",
   "metadata": {},
   "source": [
    "In real world, it is common for the companies to see that different type of customers will have different price in their heart for the same product. For example, for the same bottle of mineral water, customers who care about their own health might pay 5 dollar for it. Because they thinkit is good for their health while the majority of customers only wills to pay less than 1 dollar for it because it is just regular water in their mind. Due to moral restriction and legislation issue, one product(SKU) can only have 1 price, so the company might have to sell the bottle water for less than $1 in order to reach to the majority of customers. \n",
    "\n",
    "So is there a way to gain the extra 4 dollar from some of the customer? Here's where versioning will come to place. By providing different values and setting price appropriately, the company can possibly get more from their high value customers. We will show it in the following example. \n",
    "\n",
    "In the following examples, we make two major assumptions:\n",
    "\n",
    "For a single product offering, we assume that customers choose the product as long as the WTP(Willingness To Pay)is greater than the price.\n",
    "\n",
    "For a multiple product offering, we assume that consumers choose the product that gives them the highest surplus."
   ]
  },
  {
   "cell_type": "markdown",
   "metadata": {},
   "source": [
    "### Single Version\n",
    "\n"
   ]
  },
  {
   "cell_type": "code",
   "execution_count": 194,
   "metadata": {},
   "outputs": [],
   "source": [
    "import pandas as pd\n",
    "\n",
    "from bokeh.io import output_notebook, show,output_file\n",
    "from bokeh.plotting import figure\n",
    "from bokeh.embed import file_html"
   ]
  },
  {
   "cell_type": "code",
   "execution_count": 75,
   "metadata": {},
   "outputs": [
    {
     "name": "stdout",
     "output_type": "stream",
     "text": [
      "Cluster Names  WTP\n",
      "         Abby    8\n",
      "          Bob    9\n",
      "        Cindy   10\n",
      "      Desmond   19\n",
      "          Eva   20\n"
     ]
    }
   ],
   "source": [
    "lst_name = ['Abby',\"Bob\",'Cindy','Desmond','Eva']\n",
    "lst_WTP = [8,9,10,19,20]\n",
    "df = pd.DataFrame(list(zip(lst_name,lst_WTP)), columns = ['Cluster Names','WTP'])\n",
    "print(df.to_string(index=False))\n",
    "df_1 = df"
   ]
  },
  {
   "cell_type": "markdown",
   "metadata": {},
   "source": [
    "Here we suppose we have five cluster of customers who have different WTP for the same movie ticket. These are the potential customers who can buy the movie tickets. As the manager of the cinema, you have to set a price to make the most out of the movie.\n",
    "\n",
    "There are five possible points to set the price which are the WTPs of each cluster because the customers will buy the movie ticket as long as the WTP is greater than the price.\n"
   ]
  },
  {
   "cell_type": "code",
   "execution_count": 76,
   "metadata": {},
   "outputs": [
    {
     "name": "stdout",
     "output_type": "stream",
     "text": [
      " Ticket Price  Total Profit\n",
      "            8            40\n",
      "            9            36\n",
      "           10            30\n",
      "           19            38\n",
      "           20            20\n"
     ]
    }
   ],
   "source": [
    "total_profit_lst = []\n",
    "for i in lst_WTP:\n",
    "    profit = 0\n",
    "    for k in lst_WTP:\n",
    "        if int(i) <= int(k):\n",
    "            profit = profit + int(i)          \n",
    "    total_profit_lst.append(profit)\n",
    "df_single = pd.DataFrame(list(zip(lst_WTP,total_profit_lst)), columns = ['Ticket Price','Total Profit'])\n",
    "print(df_single.to_string(index=False))"
   ]
  },
  {
   "cell_type": "markdown",
   "metadata": {},
   "source": [
    "We can see that the maximum profit that can be gained is $40 by setting the price to 8 dollar so that all the clusters will buy the moview ticket. However, is there a way to gain more profit from these customers?\n"
   ]
  },
  {
   "cell_type": "markdown",
   "metadata": {},
   "source": [
    "### Multiple Version\n",
    "\n",
    "We can try to provide a different version to customers with higher WTP. We can sell the ticket a higher price by providing the customers premium seating which incur almost no additional cost, but increase the profit. Let's try to apply this methodology here into these five customers."
   ]
  },
  {
   "cell_type": "code",
   "execution_count": 77,
   "metadata": {},
   "outputs": [
    {
     "name": "stdout",
     "output_type": "stream",
     "text": [
      "Cluster Names  WTP_low  WTP_high\n",
      "         Abby        8         8\n",
      "          Bob        9         9\n",
      "        Cindy       10        10\n",
      "      Desmond       19        40\n",
      "          Eva       20        50\n"
     ]
    }
   ],
   "source": [
    "lst_WTP_high = [8,9,10,40,50]\n",
    "df['WTP_high'] = lst_WTP_high\n",
    "df.columns = ['Cluster Names', \"WTP_low\",\"WTP_high\"]\n",
    "print(df.to_string(index=False))\n",
    "df_2 = df"
   ]
  },
  {
   "cell_type": "markdown",
   "metadata": {},
   "source": [
    "Cluster of customers might have different WTP for two different versions because some of them want to enjoy premium services.\n"
   ]
  },
  {
   "cell_type": "code",
   "execution_count": 78,
   "metadata": {},
   "outputs": [],
   "source": [
    "price_Low = 8\n",
    "price_High = 28.99"
   ]
  },
  {
   "cell_type": "markdown",
   "metadata": {},
   "source": [
    "Here we test the total profit if we set the low end version ticket price to 8 and high end version ticket price to 28.99.\n"
   ]
  },
  {
   "cell_type": "code",
   "execution_count": 79,
   "metadata": {},
   "outputs": [
    {
     "name": "stdout",
     "output_type": "stream",
     "text": [
      "         surplus for low end ticket  surplus for high end ticket\n",
      "Abby                              0                       -20.99\n",
      "Bob                               1                       -19.99\n",
      "Cindy                             2                       -18.99\n",
      "Desmond                          11                        11.01\n",
      "Eva                              12                        21.01\n",
      "====================\n",
      "surplus for low end ticket     11.00\n",
      "surplus for high end ticket    11.01\n",
      "Name: Desmond, dtype: float64\n"
     ]
    }
   ],
   "source": [
    "surplus = [(8-8,8-28.99),\n",
    "           (9-8,9-28.99),\n",
    "           (10-8,10-28.99),\n",
    "           (19-8,40-28.99),\n",
    "           (20-8,50-28.99)]\n",
    "\n",
    "df_surplus = pd.DataFrame(surplus,columns = ['surplus for low end ticket','surplus for high end ticket'],index = lst_name)\n",
    "print(df_surplus)\n",
    "print(\"=\"*20)\n",
    "Desmond_data = df_surplus.loc['Desmond',:]; print(Desmond_data)"
   ]
  },
  {
   "cell_type": "markdown",
   "metadata": {},
   "source": [
    "Here we can see the corresponding surplus for each of the cluster. Here we want to focus on Desmond's surplus. Desmond's surplus for high end ticket is 0.01 more than his surplus for low end ticket which means he will pick the high end ticket for the additional surplus. We successfully attract Desmond to buy the high end ticket.\n",
    "\n",
    "---"
   ]
  },
  {
   "cell_type": "code",
   "execution_count": 80,
   "metadata": {},
   "outputs": [
    {
     "name": "stdout",
     "output_type": "stream",
     "text": [
      "The new profit is $81.98\n"
     ]
    }
   ],
   "source": [
    "profit = 0\n",
    "for index, row in df_surplus.iterrows():\n",
    "    if row['surplus for low end ticket'] >= row['surplus for high end ticket']:\n",
    "        profit = profit + price_Low\n",
    "    else:\n",
    "        profit = profit + price_High\n",
    "print(\"The new profit is $\"+ str(round(profit,2)))"
   ]
  },
  {
   "cell_type": "markdown",
   "metadata": {},
   "source": [
    "## Practice Case with different options\n",
    "\n",
    "---"
   ]
  },
  {
   "cell_type": "markdown",
   "metadata": {},
   "source": [
    "Here we have the final scenario, where you will be having more than 2 versions. In this scenario, you can use the optimization tools that we would introduce in other projects to find out the best solution based on different number of versions you choose to provide, here we provide an interactive case for you to play around."
   ]
  },
  {
   "cell_type": "code",
   "execution_count": 81,
   "metadata": {},
   "outputs": [
    {
     "name": "stdout",
     "output_type": "stream",
     "text": [
      "Cluster Names  WTP_low  WTP_medium  WTP_high\n",
      "         Abby        8           8         8\n",
      "          Bob        9           9         9\n",
      "        Cindy       10          10        10\n",
      "      Desmond       19          25        40\n",
      "          Eva       20          30        50\n"
     ]
    }
   ],
   "source": [
    "lst_WTP_medium = [8,9,10,25,30]\n",
    "df['WTP_medium'] = lst_WTP_medium\n",
    "df.columns = ['Cluster Names', \"WTP_low\",\"WTP_high\",\"WTP_medium\"]\n",
    "new_order = [0,1,3,2] #switching columns order\n",
    "new_df = df[df.columns[new_order]]\n",
    "print(new_df.to_string(index=False))"
   ]
  },
  {
   "cell_type": "code",
   "execution_count": 130,
   "metadata": {},
   "outputs": [],
   "source": [
    "def ver_opt(val,price):\n",
    "    if val == 1:\n",
    "        selection_lst = []\n",
    "        revenue = 0\n",
    "        for i in lst_WTP:\n",
    "            if int(i) >= int(price[0]):\n",
    "                selection_lst.append(1)\n",
    "                revenue = revenue + price[0]\n",
    "            else:\n",
    "                selection_lst.append(0)\n",
    "        return selection_lst, revenue\n",
    "    if val == 2:\n",
    "        selection_lst = []\n",
    "        revenue = 0\n",
    "        surplus_high = df_2['WTP_high'] -price[1]\n",
    "        surplus_low = df_2['WTP_low'] - price[0]\n",
    "        for i in range(len(df_2.index)):\n",
    "            if surplus_high[i] >= surplus_low[i]:\n",
    "                revenue = revenue + price[1]\n",
    "                selection_lst.append(1)\n",
    "            else:\n",
    "                revenue = revenue + price[0]\n",
    "                selection_lst.append(0)\n",
    "        return selection_lst,revenue\n",
    "    if val == 3:\n",
    "        selection_lst = []\n",
    "        revenue = 0\n",
    "        surplus_high = new_df['WTP_high'] -price[2]\n",
    "        surplus_medium = new_df['WTP_medium'] - price[1]\n",
    "        surplus_low = df_2['WTP_low'] - price[0]\n",
    "        for i in range(len(new_df.index)):\n",
    "            if surplus_high[i] == max(surplus_high[i],surplus_medium[i], surplus_low[i]):\n",
    "                # It's rational that people go for the best service \n",
    "                # if they are indifferent from different types of service\n",
    "                revenue = revenue + price[2]\n",
    "                selection_lst.append(2)\n",
    "            elif surplus_medium[i] == max(surplus_high[i],surplus_medium[i], surplus_low[i]):\n",
    "                revenue = revenue + price[1]\n",
    "                selection_lst.append(1)\n",
    "            elif surplus_low[i] == max(surplus_high[i],surplus_medium[i], surplus_low[i]):\n",
    "                revenue = revenue + price[0]\n",
    "                selection_lst.append(0)\n",
    "        return selection_lst,revenue"
   ]
  },
  {
   "cell_type": "code",
   "execution_count": 199,
   "metadata": {
    "scrolled": false
   },
   "outputs": [
    {
     "name": "stdout",
     "output_type": "stream",
     "text": [
      "how many version? /1-3: 2\n",
      "Enter two prices: 10 30\n",
      "First Price is: $ 10\n",
      "Second Price is: $ 30\n"
     ]
    }
   ],
   "source": [
    "version = input(\"how many version? /1-3: \")\n",
    "if int(version) == 1:\n",
    "    price = [int(x) for x in input(\"Enter one price: \").split()] \n",
    "    print(\"The only Price is: $\", price[0]) \n",
    "elif int(version) == 2:\n",
    "    price = [int(x) for x in input(\"Enter two prices: \").split()] \n",
    "    print(\"First Price is: $\", price[0]) \n",
    "    print(\"Second Price is: $\", price[1]) \n",
    "elif int(version) == 3:\n",
    "    price = [int(x) for x in input(\"Enter three prices: \").split()] \n",
    "    print(\"First Price is: $\", price[0]) \n",
    "    print(\"Second Price is: $\", price[1])\n",
    "    print(\"Third Price is: $\", price[2])\n",
    "\n",
    "selection_lst, revenue = ver_opt(int(version),price)\n"
   ]
  },
  {
   "cell_type": "markdown",
   "metadata": {},
   "source": [
    "In the following plot, V1 indicates the single version scenario:"
   ]
  },
  {
   "cell_type": "code",
   "execution_count": 202,
   "metadata": {
    "scrolled": true
   },
   "outputs": [
    {
     "name": "stdout",
     "output_type": "stream",
     "text": [
      "The total revenue is: $ 90\n"
     ]
    },
    {
     "data": {
      "text/html": [
       "\n",
       "    <div class=\"bk-root\">\n",
       "        <a href=\"https://bokeh.pydata.org\" target=\"_blank\" class=\"bk-logo bk-logo-small bk-logo-notebook\"></a>\n",
       "        <span id=\"11868\">Loading BokehJS ...</span>\n",
       "    </div>"
      ]
     },
     "metadata": {},
     "output_type": "display_data"
    },
    {
     "data": {
      "application/javascript": [
       "\n",
       "(function(root) {\n",
       "  function now() {\n",
       "    return new Date();\n",
       "  }\n",
       "\n",
       "  var force = true;\n",
       "\n",
       "  if (typeof root._bokeh_onload_callbacks === \"undefined\" || force === true) {\n",
       "    root._bokeh_onload_callbacks = [];\n",
       "    root._bokeh_is_loading = undefined;\n",
       "  }\n",
       "\n",
       "  var JS_MIME_TYPE = 'application/javascript';\n",
       "  var HTML_MIME_TYPE = 'text/html';\n",
       "  var EXEC_MIME_TYPE = 'application/vnd.bokehjs_exec.v0+json';\n",
       "  var CLASS_NAME = 'output_bokeh rendered_html';\n",
       "\n",
       "  /**\n",
       "   * Render data to the DOM node\n",
       "   */\n",
       "  function render(props, node) {\n",
       "    var script = document.createElement(\"script\");\n",
       "    node.appendChild(script);\n",
       "  }\n",
       "\n",
       "  /**\n",
       "   * Handle when an output is cleared or removed\n",
       "   */\n",
       "  function handleClearOutput(event, handle) {\n",
       "    var cell = handle.cell;\n",
       "\n",
       "    var id = cell.output_area._bokeh_element_id;\n",
       "    var server_id = cell.output_area._bokeh_server_id;\n",
       "    // Clean up Bokeh references\n",
       "    if (id != null && id in Bokeh.index) {\n",
       "      Bokeh.index[id].model.document.clear();\n",
       "      delete Bokeh.index[id];\n",
       "    }\n",
       "\n",
       "    if (server_id !== undefined) {\n",
       "      // Clean up Bokeh references\n",
       "      var cmd = \"from bokeh.io.state import curstate; print(curstate().uuid_to_server['\" + server_id + \"'].get_sessions()[0].document.roots[0]._id)\";\n",
       "      cell.notebook.kernel.execute(cmd, {\n",
       "        iopub: {\n",
       "          output: function(msg) {\n",
       "            var id = msg.content.text.trim();\n",
       "            if (id in Bokeh.index) {\n",
       "              Bokeh.index[id].model.document.clear();\n",
       "              delete Bokeh.index[id];\n",
       "            }\n",
       "          }\n",
       "        }\n",
       "      });\n",
       "      // Destroy server and session\n",
       "      var cmd = \"import bokeh.io.notebook as ion; ion.destroy_server('\" + server_id + \"')\";\n",
       "      cell.notebook.kernel.execute(cmd);\n",
       "    }\n",
       "  }\n",
       "\n",
       "  /**\n",
       "   * Handle when a new output is added\n",
       "   */\n",
       "  function handleAddOutput(event, handle) {\n",
       "    var output_area = handle.output_area;\n",
       "    var output = handle.output;\n",
       "\n",
       "    // limit handleAddOutput to display_data with EXEC_MIME_TYPE content only\n",
       "    if ((output.output_type != \"display_data\") || (!output.data.hasOwnProperty(EXEC_MIME_TYPE))) {\n",
       "      return\n",
       "    }\n",
       "\n",
       "    var toinsert = output_area.element.find(\".\" + CLASS_NAME.split(' ')[0]);\n",
       "\n",
       "    if (output.metadata[EXEC_MIME_TYPE][\"id\"] !== undefined) {\n",
       "      toinsert[toinsert.length - 1].firstChild.textContent = output.data[JS_MIME_TYPE];\n",
       "      // store reference to embed id on output_area\n",
       "      output_area._bokeh_element_id = output.metadata[EXEC_MIME_TYPE][\"id\"];\n",
       "    }\n",
       "    if (output.metadata[EXEC_MIME_TYPE][\"server_id\"] !== undefined) {\n",
       "      var bk_div = document.createElement(\"div\");\n",
       "      bk_div.innerHTML = output.data[HTML_MIME_TYPE];\n",
       "      var script_attrs = bk_div.children[0].attributes;\n",
       "      for (var i = 0; i < script_attrs.length; i++) {\n",
       "        toinsert[toinsert.length - 1].firstChild.setAttribute(script_attrs[i].name, script_attrs[i].value);\n",
       "      }\n",
       "      // store reference to server id on output_area\n",
       "      output_area._bokeh_server_id = output.metadata[EXEC_MIME_TYPE][\"server_id\"];\n",
       "    }\n",
       "  }\n",
       "\n",
       "  function register_renderer(events, OutputArea) {\n",
       "\n",
       "    function append_mime(data, metadata, element) {\n",
       "      // create a DOM node to render to\n",
       "      var toinsert = this.create_output_subarea(\n",
       "        metadata,\n",
       "        CLASS_NAME,\n",
       "        EXEC_MIME_TYPE\n",
       "      );\n",
       "      this.keyboard_manager.register_events(toinsert);\n",
       "      // Render to node\n",
       "      var props = {data: data, metadata: metadata[EXEC_MIME_TYPE]};\n",
       "      render(props, toinsert[toinsert.length - 1]);\n",
       "      element.append(toinsert);\n",
       "      return toinsert\n",
       "    }\n",
       "\n",
       "    /* Handle when an output is cleared or removed */\n",
       "    events.on('clear_output.CodeCell', handleClearOutput);\n",
       "    events.on('delete.Cell', handleClearOutput);\n",
       "\n",
       "    /* Handle when a new output is added */\n",
       "    events.on('output_added.OutputArea', handleAddOutput);\n",
       "\n",
       "    /**\n",
       "     * Register the mime type and append_mime function with output_area\n",
       "     */\n",
       "    OutputArea.prototype.register_mime_type(EXEC_MIME_TYPE, append_mime, {\n",
       "      /* Is output safe? */\n",
       "      safe: true,\n",
       "      /* Index of renderer in `output_area.display_order` */\n",
       "      index: 0\n",
       "    });\n",
       "  }\n",
       "\n",
       "  // register the mime type if in Jupyter Notebook environment and previously unregistered\n",
       "  if (root.Jupyter !== undefined) {\n",
       "    var events = require('base/js/events');\n",
       "    var OutputArea = require('notebook/js/outputarea').OutputArea;\n",
       "\n",
       "    if (OutputArea.prototype.mime_types().indexOf(EXEC_MIME_TYPE) == -1) {\n",
       "      register_renderer(events, OutputArea);\n",
       "    }\n",
       "  }\n",
       "\n",
       "  \n",
       "  if (typeof (root._bokeh_timeout) === \"undefined\" || force === true) {\n",
       "    root._bokeh_timeout = Date.now() + 5000;\n",
       "    root._bokeh_failed_load = false;\n",
       "  }\n",
       "\n",
       "  var NB_LOAD_WARNING = {'data': {'text/html':\n",
       "     \"<div style='background-color: #fdd'>\\n\"+\n",
       "     \"<p>\\n\"+\n",
       "     \"BokehJS does not appear to have successfully loaded. If loading BokehJS from CDN, this \\n\"+\n",
       "     \"may be due to a slow or bad network connection. Possible fixes:\\n\"+\n",
       "     \"</p>\\n\"+\n",
       "     \"<ul>\\n\"+\n",
       "     \"<li>re-rerun `output_notebook()` to attempt to load from CDN again, or</li>\\n\"+\n",
       "     \"<li>use INLINE resources instead, as so:</li>\\n\"+\n",
       "     \"</ul>\\n\"+\n",
       "     \"<code>\\n\"+\n",
       "     \"from bokeh.resources import INLINE\\n\"+\n",
       "     \"output_notebook(resources=INLINE)\\n\"+\n",
       "     \"</code>\\n\"+\n",
       "     \"</div>\"}};\n",
       "\n",
       "  function display_loaded() {\n",
       "    var el = document.getElementById(\"11868\");\n",
       "    if (el != null) {\n",
       "      el.textContent = \"BokehJS is loading...\";\n",
       "    }\n",
       "    if (root.Bokeh !== undefined) {\n",
       "      if (el != null) {\n",
       "        el.textContent = \"BokehJS \" + root.Bokeh.version + \" successfully loaded.\";\n",
       "      }\n",
       "    } else if (Date.now() < root._bokeh_timeout) {\n",
       "      setTimeout(display_loaded, 100)\n",
       "    }\n",
       "  }\n",
       "\n",
       "\n",
       "  function run_callbacks() {\n",
       "    try {\n",
       "      root._bokeh_onload_callbacks.forEach(function(callback) {\n",
       "        if (callback != null)\n",
       "          callback();\n",
       "      });\n",
       "    } finally {\n",
       "      delete root._bokeh_onload_callbacks\n",
       "    }\n",
       "    console.debug(\"Bokeh: all callbacks have finished\");\n",
       "  }\n",
       "\n",
       "  function load_libs(css_urls, js_urls, callback) {\n",
       "    if (css_urls == null) css_urls = [];\n",
       "    if (js_urls == null) js_urls = [];\n",
       "\n",
       "    root._bokeh_onload_callbacks.push(callback);\n",
       "    if (root._bokeh_is_loading > 0) {\n",
       "      console.debug(\"Bokeh: BokehJS is being loaded, scheduling callback at\", now());\n",
       "      return null;\n",
       "    }\n",
       "    if (js_urls == null || js_urls.length === 0) {\n",
       "      run_callbacks();\n",
       "      return null;\n",
       "    }\n",
       "    console.debug(\"Bokeh: BokehJS not loaded, scheduling load and callback at\", now());\n",
       "    root._bokeh_is_loading = css_urls.length + js_urls.length;\n",
       "\n",
       "    function on_load() {\n",
       "      root._bokeh_is_loading--;\n",
       "      if (root._bokeh_is_loading === 0) {\n",
       "        console.debug(\"Bokeh: all BokehJS libraries/stylesheets loaded\");\n",
       "        run_callbacks()\n",
       "      }\n",
       "    }\n",
       "\n",
       "    function on_error() {\n",
       "      console.error(\"failed to load \" + url);\n",
       "    }\n",
       "\n",
       "    for (var i = 0; i < css_urls.length; i++) {\n",
       "      var url = css_urls[i];\n",
       "      const element = document.createElement(\"link\");\n",
       "      element.onload = on_load;\n",
       "      element.onerror = on_error;\n",
       "      element.rel = \"stylesheet\";\n",
       "      element.type = \"text/css\";\n",
       "      element.href = url;\n",
       "      console.debug(\"Bokeh: injecting link tag for BokehJS stylesheet: \", url);\n",
       "      document.body.appendChild(element);\n",
       "    }\n",
       "\n",
       "    for (var i = 0; i < js_urls.length; i++) {\n",
       "      var url = js_urls[i];\n",
       "      var element = document.createElement('script');\n",
       "      element.onload = on_load;\n",
       "      element.onerror = on_error;\n",
       "      element.async = false;\n",
       "      element.src = url;\n",
       "      console.debug(\"Bokeh: injecting script tag for BokehJS library: \", url);\n",
       "      document.head.appendChild(element);\n",
       "    }\n",
       "  };var element = document.getElementById(\"11868\");\n",
       "  if (element == null) {\n",
       "    console.error(\"Bokeh: ERROR: autoload.js configured with elementid '11868' but no matching script tag was found. \")\n",
       "    return false;\n",
       "  }\n",
       "\n",
       "  function inject_raw_css(css) {\n",
       "    const element = document.createElement(\"style\");\n",
       "    element.appendChild(document.createTextNode(css));\n",
       "    document.body.appendChild(element);\n",
       "  }\n",
       "\n",
       "  var js_urls = [\"https://cdn.pydata.org/bokeh/release/bokeh-1.2.0.min.js\", \"https://cdn.pydata.org/bokeh/release/bokeh-widgets-1.2.0.min.js\", \"https://cdn.pydata.org/bokeh/release/bokeh-tables-1.2.0.min.js\", \"https://cdn.pydata.org/bokeh/release/bokeh-gl-1.2.0.min.js\"];\n",
       "  var css_urls = [\"https://cdn.pydata.org/bokeh/release/bokeh-1.2.0.min.css\", \"https://cdn.pydata.org/bokeh/release/bokeh-widgets-1.2.0.min.css\", \"https://cdn.pydata.org/bokeh/release/bokeh-tables-1.2.0.min.css\"];\n",
       "\n",
       "  var inline_js = [\n",
       "    function(Bokeh) {\n",
       "      Bokeh.set_log_level(\"info\");\n",
       "    },\n",
       "    \n",
       "    function(Bokeh) {\n",
       "      \n",
       "    },\n",
       "    function(Bokeh) {} // ensure no trailing comma for IE\n",
       "  ];\n",
       "\n",
       "  function run_inline_js() {\n",
       "    \n",
       "    if ((root.Bokeh !== undefined) || (force === true)) {\n",
       "      for (var i = 0; i < inline_js.length; i++) {\n",
       "        inline_js[i].call(root, root.Bokeh);\n",
       "      }if (force === true) {\n",
       "        display_loaded();\n",
       "      }} else if (Date.now() < root._bokeh_timeout) {\n",
       "      setTimeout(run_inline_js, 100);\n",
       "    } else if (!root._bokeh_failed_load) {\n",
       "      console.log(\"Bokeh: BokehJS failed to load within specified timeout.\");\n",
       "      root._bokeh_failed_load = true;\n",
       "    } else if (force !== true) {\n",
       "      var cell = $(document.getElementById(\"11868\")).parents('.cell').data().cell;\n",
       "      cell.output_area.append_execute_result(NB_LOAD_WARNING)\n",
       "    }\n",
       "\n",
       "  }\n",
       "\n",
       "  if (root._bokeh_is_loading === 0) {\n",
       "    console.debug(\"Bokeh: BokehJS loaded, going straight to plotting\");\n",
       "    run_inline_js();\n",
       "  } else {\n",
       "    load_libs(css_urls, js_urls, function() {\n",
       "      console.debug(\"Bokeh: BokehJS plotting callback run at\", now());\n",
       "      run_inline_js();\n",
       "    });\n",
       "  }\n",
       "}(window));"
      ],
      "application/vnd.bokehjs_load.v0+json": "\n(function(root) {\n  function now() {\n    return new Date();\n  }\n\n  var force = true;\n\n  if (typeof root._bokeh_onload_callbacks === \"undefined\" || force === true) {\n    root._bokeh_onload_callbacks = [];\n    root._bokeh_is_loading = undefined;\n  }\n\n  \n\n  \n  if (typeof (root._bokeh_timeout) === \"undefined\" || force === true) {\n    root._bokeh_timeout = Date.now() + 5000;\n    root._bokeh_failed_load = false;\n  }\n\n  var NB_LOAD_WARNING = {'data': {'text/html':\n     \"<div style='background-color: #fdd'>\\n\"+\n     \"<p>\\n\"+\n     \"BokehJS does not appear to have successfully loaded. If loading BokehJS from CDN, this \\n\"+\n     \"may be due to a slow or bad network connection. Possible fixes:\\n\"+\n     \"</p>\\n\"+\n     \"<ul>\\n\"+\n     \"<li>re-rerun `output_notebook()` to attempt to load from CDN again, or</li>\\n\"+\n     \"<li>use INLINE resources instead, as so:</li>\\n\"+\n     \"</ul>\\n\"+\n     \"<code>\\n\"+\n     \"from bokeh.resources import INLINE\\n\"+\n     \"output_notebook(resources=INLINE)\\n\"+\n     \"</code>\\n\"+\n     \"</div>\"}};\n\n  function display_loaded() {\n    var el = document.getElementById(\"11868\");\n    if (el != null) {\n      el.textContent = \"BokehJS is loading...\";\n    }\n    if (root.Bokeh !== undefined) {\n      if (el != null) {\n        el.textContent = \"BokehJS \" + root.Bokeh.version + \" successfully loaded.\";\n      }\n    } else if (Date.now() < root._bokeh_timeout) {\n      setTimeout(display_loaded, 100)\n    }\n  }\n\n\n  function run_callbacks() {\n    try {\n      root._bokeh_onload_callbacks.forEach(function(callback) {\n        if (callback != null)\n          callback();\n      });\n    } finally {\n      delete root._bokeh_onload_callbacks\n    }\n    console.debug(\"Bokeh: all callbacks have finished\");\n  }\n\n  function load_libs(css_urls, js_urls, callback) {\n    if (css_urls == null) css_urls = [];\n    if (js_urls == null) js_urls = [];\n\n    root._bokeh_onload_callbacks.push(callback);\n    if (root._bokeh_is_loading > 0) {\n      console.debug(\"Bokeh: BokehJS is being loaded, scheduling callback at\", now());\n      return null;\n    }\n    if (js_urls == null || js_urls.length === 0) {\n      run_callbacks();\n      return null;\n    }\n    console.debug(\"Bokeh: BokehJS not loaded, scheduling load and callback at\", now());\n    root._bokeh_is_loading = css_urls.length + js_urls.length;\n\n    function on_load() {\n      root._bokeh_is_loading--;\n      if (root._bokeh_is_loading === 0) {\n        console.debug(\"Bokeh: all BokehJS libraries/stylesheets loaded\");\n        run_callbacks()\n      }\n    }\n\n    function on_error() {\n      console.error(\"failed to load \" + url);\n    }\n\n    for (var i = 0; i < css_urls.length; i++) {\n      var url = css_urls[i];\n      const element = document.createElement(\"link\");\n      element.onload = on_load;\n      element.onerror = on_error;\n      element.rel = \"stylesheet\";\n      element.type = \"text/css\";\n      element.href = url;\n      console.debug(\"Bokeh: injecting link tag for BokehJS stylesheet: \", url);\n      document.body.appendChild(element);\n    }\n\n    for (var i = 0; i < js_urls.length; i++) {\n      var url = js_urls[i];\n      var element = document.createElement('script');\n      element.onload = on_load;\n      element.onerror = on_error;\n      element.async = false;\n      element.src = url;\n      console.debug(\"Bokeh: injecting script tag for BokehJS library: \", url);\n      document.head.appendChild(element);\n    }\n  };var element = document.getElementById(\"11868\");\n  if (element == null) {\n    console.error(\"Bokeh: ERROR: autoload.js configured with elementid '11868' but no matching script tag was found. \")\n    return false;\n  }\n\n  function inject_raw_css(css) {\n    const element = document.createElement(\"style\");\n    element.appendChild(document.createTextNode(css));\n    document.body.appendChild(element);\n  }\n\n  var js_urls = [\"https://cdn.pydata.org/bokeh/release/bokeh-1.2.0.min.js\", \"https://cdn.pydata.org/bokeh/release/bokeh-widgets-1.2.0.min.js\", \"https://cdn.pydata.org/bokeh/release/bokeh-tables-1.2.0.min.js\", \"https://cdn.pydata.org/bokeh/release/bokeh-gl-1.2.0.min.js\"];\n  var css_urls = [\"https://cdn.pydata.org/bokeh/release/bokeh-1.2.0.min.css\", \"https://cdn.pydata.org/bokeh/release/bokeh-widgets-1.2.0.min.css\", \"https://cdn.pydata.org/bokeh/release/bokeh-tables-1.2.0.min.css\"];\n\n  var inline_js = [\n    function(Bokeh) {\n      Bokeh.set_log_level(\"info\");\n    },\n    \n    function(Bokeh) {\n      \n    },\n    function(Bokeh) {} // ensure no trailing comma for IE\n  ];\n\n  function run_inline_js() {\n    \n    if ((root.Bokeh !== undefined) || (force === true)) {\n      for (var i = 0; i < inline_js.length; i++) {\n        inline_js[i].call(root, root.Bokeh);\n      }if (force === true) {\n        display_loaded();\n      }} else if (Date.now() < root._bokeh_timeout) {\n      setTimeout(run_inline_js, 100);\n    } else if (!root._bokeh_failed_load) {\n      console.log(\"Bokeh: BokehJS failed to load within specified timeout.\");\n      root._bokeh_failed_load = true;\n    } else if (force !== true) {\n      var cell = $(document.getElementById(\"11868\")).parents('.cell').data().cell;\n      cell.output_area.append_execute_result(NB_LOAD_WARNING)\n    }\n\n  }\n\n  if (root._bokeh_is_loading === 0) {\n    console.debug(\"Bokeh: BokehJS loaded, going straight to plotting\");\n    run_inline_js();\n  } else {\n    load_libs(css_urls, js_urls, function() {\n      console.debug(\"Bokeh: BokehJS plotting callback run at\", now());\n      run_inline_js();\n    });\n  }\n}(window));"
     },
     "metadata": {},
     "output_type": "display_data"
    },
    {
     "data": {
      "text/html": [
       "\n",
       "\n",
       "\n",
       "\n",
       "\n",
       "\n",
       "  <div class=\"bk-root\" id=\"dbfde975-e7b2-4759-a582-c92dfdb4b226\" data-root-id=\"11869\"></div>\n"
      ]
     },
     "metadata": {},
     "output_type": "display_data"
    },
    {
     "data": {
      "application/javascript": [
       "(function(root) {\n",
       "  function embed_document(root) {\n",
       "    \n",
       "  var docs_json = {\"d498178a-c461-4ba8-a698-19cc8949e25b\":{\"roots\":{\"references\":[{\"attributes\":{\"below\":[{\"id\":\"11880\",\"type\":\"LinearAxis\"}],\"center\":[{\"id\":\"11884\",\"type\":\"Grid\"},{\"id\":\"11889\",\"type\":\"Grid\"}],\"left\":[{\"id\":\"11885\",\"type\":\"LinearAxis\"}],\"plot_height\":450,\"plot_width\":450,\"renderers\":[{\"id\":\"11910\",\"type\":\"GlyphRenderer\"}],\"title\":{\"id\":\"11870\",\"type\":\"Title\"},\"toolbar\":{\"id\":\"11896\",\"type\":\"Toolbar\"},\"toolbar_location\":\"below\",\"x_range\":{\"id\":\"11872\",\"type\":\"Range1d\"},\"x_scale\":{\"id\":\"11876\",\"type\":\"LinearScale\"},\"y_range\":{\"id\":\"11874\",\"type\":\"DataRange1d\"},\"y_scale\":{\"id\":\"11878\",\"type\":\"LinearScale\"}},\"id\":\"11869\",\"subtype\":\"Figure\",\"type\":\"Plot\"},{\"attributes\":{},\"id\":\"12197\",\"type\":\"UnionRenderers\"},{\"attributes\":{},\"id\":\"12196\",\"type\":\"Selection\"},{\"attributes\":{\"bottom_units\":\"screen\",\"fill_alpha\":{\"value\":0.5},\"fill_color\":{\"value\":\"lightgrey\"},\"left_units\":\"screen\",\"level\":\"overlay\",\"line_alpha\":{\"value\":1.0},\"line_color\":{\"value\":\"black\"},\"line_dash\":[4,4],\"line_width\":{\"value\":2},\"render_mode\":\"css\",\"right_units\":\"screen\",\"top_units\":\"screen\"},\"id\":\"12195\",\"type\":\"BoxAnnotation\"},{\"attributes\":{\"ticks\":[1,2,3,4,5]},\"id\":\"11903\",\"type\":\"FixedTicker\"},{\"attributes\":{},\"id\":\"11886\",\"type\":\"BasicTicker\"},{\"attributes\":{\"dimension\":1,\"ticker\":{\"id\":\"11886\",\"type\":\"BasicTicker\"}},\"id\":\"11889\",\"type\":\"Grid\"},{\"attributes\":{\"formatter\":{\"id\":\"12193\",\"type\":\"BasicTickFormatter\"},\"major_label_overrides\":{\"0\":\"Low/no purchase(V1)\",\"1\":\"Medium/purchase(V1)\",\"2\":\"High Version\"},\"ticker\":{\"id\":\"11905\",\"type\":\"FixedTicker\"}},\"id\":\"11880\",\"type\":\"LinearAxis\"},{\"attributes\":{\"callback\":null,\"end\":2.5,\"start\":-0.5},\"id\":\"11872\",\"type\":\"Range1d\"},{\"attributes\":{},\"id\":\"11891\",\"type\":\"WheelZoomTool\"},{\"attributes\":{\"fill_alpha\":{\"value\":0.1},\"fill_color\":{\"value\":\"#1f77b4\"},\"line_alpha\":{\"value\":0.1},\"line_color\":{\"value\":\"#1f77b4\"},\"line_width\":{\"value\":2},\"size\":{\"units\":\"screen\",\"value\":10},\"x\":{\"field\":\"x\"},\"y\":{\"field\":\"y\"}},\"id\":\"11909\",\"type\":\"X\"},{\"attributes\":{},\"id\":\"11878\",\"type\":\"LinearScale\"},{\"attributes\":{\"ticks\":[0,1,2,3]},\"id\":\"11905\",\"type\":\"FixedTicker\"},{\"attributes\":{\"data_source\":{\"id\":\"11907\",\"type\":\"ColumnDataSource\"},\"glyph\":{\"id\":\"11908\",\"type\":\"X\"},\"hover_glyph\":null,\"muted_glyph\":null,\"nonselection_glyph\":{\"id\":\"11909\",\"type\":\"X\"},\"selection_glyph\":null,\"view\":{\"id\":\"11911\",\"type\":\"CDSView\"}},\"id\":\"11910\",\"type\":\"GlyphRenderer\"},{\"attributes\":{},\"id\":\"11890\",\"type\":\"PanTool\"},{\"attributes\":{\"formatter\":{\"id\":\"12194\",\"type\":\"BasicTickFormatter\"},\"major_label_overrides\":{\"1\":\"Abby\",\"2\":\"Bob\",\"3\":\"Cindy\",\"4\":\"Desmond\",\"5\":\"Eva\"},\"ticker\":{\"id\":\"11903\",\"type\":\"FixedTicker\"}},\"id\":\"11885\",\"type\":\"LinearAxis\"},{\"attributes\":{},\"id\":\"11894\",\"type\":\"ResetTool\"},{\"attributes\":{\"active_drag\":\"auto\",\"active_inspect\":\"auto\",\"active_multi\":null,\"active_scroll\":\"auto\",\"active_tap\":\"auto\",\"tools\":[{\"id\":\"11890\",\"type\":\"PanTool\"},{\"id\":\"11891\",\"type\":\"WheelZoomTool\"},{\"id\":\"11892\",\"type\":\"BoxZoomTool\"},{\"id\":\"11893\",\"type\":\"SaveTool\"},{\"id\":\"11894\",\"type\":\"ResetTool\"},{\"id\":\"11895\",\"type\":\"HelpTool\"}]},\"id\":\"11896\",\"type\":\"Toolbar\"},{\"attributes\":{},\"id\":\"11881\",\"type\":\"BasicTicker\"},{\"attributes\":{\"fill_alpha\":{\"value\":0.6},\"fill_color\":{\"value\":\"firebrick\"},\"line_alpha\":{\"value\":0.6},\"line_color\":{\"value\":\"firebrick\"},\"line_width\":{\"value\":2},\"size\":{\"units\":\"screen\",\"value\":10},\"x\":{\"field\":\"x\"},\"y\":{\"field\":\"y\"}},\"id\":\"11908\",\"type\":\"X\"},{\"attributes\":{\"callback\":null},\"id\":\"11874\",\"type\":\"DataRange1d\"},{\"attributes\":{},\"id\":\"12194\",\"type\":\"BasicTickFormatter\"},{\"attributes\":{},\"id\":\"11895\",\"type\":\"HelpTool\"},{\"attributes\":{\"ticker\":{\"id\":\"11881\",\"type\":\"BasicTicker\"}},\"id\":\"11884\",\"type\":\"Grid\"},{\"attributes\":{\"overlay\":{\"id\":\"12195\",\"type\":\"BoxAnnotation\"}},\"id\":\"11892\",\"type\":\"BoxZoomTool\"},{\"attributes\":{},\"id\":\"12193\",\"type\":\"BasicTickFormatter\"},{\"attributes\":{},\"id\":\"11893\",\"type\":\"SaveTool\"},{\"attributes\":{\"source\":{\"id\":\"11907\",\"type\":\"ColumnDataSource\"}},\"id\":\"11911\",\"type\":\"CDSView\"},{\"attributes\":{},\"id\":\"11876\",\"type\":\"LinearScale\"},{\"attributes\":{\"callback\":null,\"data\":{\"x\":[0,0,0,1,1],\"y\":[1,2,3,4,5]},\"selected\":{\"id\":\"12196\",\"type\":\"Selection\"},\"selection_policy\":{\"id\":\"12197\",\"type\":\"UnionRenderers\"}},\"id\":\"11907\",\"type\":\"ColumnDataSource\"},{\"attributes\":{\"text\":\"version result\",\"text_color\":{\"value\":\"olive\"},\"text_font\":\"times\",\"text_font_size\":{\"value\":\"14pt\"},\"text_font_style\":\"italic\"},\"id\":\"11870\",\"type\":\"Title\"}],\"root_ids\":[\"11869\"]},\"title\":\"Bokeh Application\",\"version\":\"1.2.0\"}};\n",
       "  var render_items = [{\"docid\":\"d498178a-c461-4ba8-a698-19cc8949e25b\",\"roots\":{\"11869\":\"dbfde975-e7b2-4759-a582-c92dfdb4b226\"}}];\n",
       "  root.Bokeh.embed.embed_items_notebook(docs_json, render_items);\n",
       "\n",
       "  }\n",
       "  if (root.Bokeh !== undefined) {\n",
       "    embed_document(root);\n",
       "  } else {\n",
       "    var attempts = 0;\n",
       "    var timer = setInterval(function(root) {\n",
       "      if (root.Bokeh !== undefined) {\n",
       "        embed_document(root);\n",
       "        clearInterval(timer);\n",
       "      }\n",
       "      attempts++;\n",
       "      if (attempts > 100) {\n",
       "        console.log(\"Bokeh: ERROR: Unable to run BokehJS code because BokehJS library is missing\");\n",
       "        clearInterval(timer);\n",
       "      }\n",
       "    }, 10, root)\n",
       "  }\n",
       "})(window);"
      ],
      "application/vnd.bokehjs_exec.v0+json": ""
     },
     "metadata": {
      "application/vnd.bokehjs_exec.v0+json": {
       "id": "11869"
      }
     },
     "output_type": "display_data"
    }
   ],
   "source": [
    "print(\"The total revenue is: $\",revenue)\n",
    "output_notebook()\n",
    "p = figure(plot_width=450, plot_height=450,title = \"version result\",toolbar_location=\"below\",x_range=(-0.5, 2.5))\n",
    "nonselection_color=\"blue\"\n",
    "p.title.text_color = \"olive\"\n",
    "p.title.text_font = \"times\"\n",
    "p.title.text_font_size = \"14pt\"\n",
    "p.title.text_font_style = \"italic\"\n",
    "p.yaxis.ticker = [1, 2, 3, 4, 5]\n",
    "p.yaxis.major_label_overrides = {1: 'Abby', 2: 'Bob', 3: 'Cindy',4: 'Desmond', 5: 'Eva'}\n",
    "p.xaxis.ticker = [0, 1, 2 , 3]\n",
    "p.xaxis.major_label_overrides = {0: 'Low/no purchase(V1)', 1: 'Medium/purchase(V1)', 2: 'High Version'}\n",
    "p.x(selection_lst, [1, 2, 3, 4, 5],size =10, color=\"firebrick\", alpha=0.6, line_width = 2)\n",
    "show(p)"
   ]
  },
  {
   "cell_type": "code",
   "execution_count": 1,
   "metadata": {},
   "outputs": [],
   "source": [
    "# If you want to show the picture in html\n",
    "#from bokeh.embed import file_html\n",
    "#from bokeh.resources import CDN\n",
    "\n",
    "#html = file_html(p,CDN,\"MY PLOT\")\n",
    "#print(html)"
   ]
  },
  {
   "cell_type": "markdown",
   "metadata": {},
   "source": [
    "## Conclusion\n",
    "\n",
    "---"
   ]
  },
  {
   "cell_type": "markdown",
   "metadata": {},
   "source": [
    "It is worth noticing that the model we are using is lacking several important factor that we should take into consideration like the cost of service. However, you can freely adjust the model based on your preference. The true important point here is that with the help of versioning, we are able to evaluate the sales options more wisely and generate more revenue out from the same group of customers.\n"
   ]
  }
 ],
 "metadata": {
  "kernelspec": {
   "display_name": "Python 3",
   "language": "python",
   "name": "python3"
  },
  "language_info": {
   "codemirror_mode": {
    "name": "ipython",
    "version": 3
   },
   "file_extension": ".py",
   "mimetype": "text/x-python",
   "name": "python",
   "nbconvert_exporter": "python",
   "pygments_lexer": "ipython3",
   "version": "3.7.7"
  },
  "toc": {
   "base_numbering": 1,
   "nav_menu": {},
   "number_sections": false,
   "sideBar": true,
   "skip_h1_title": false,
   "title_cell": "Table of Contents",
   "title_sidebar": "Contents",
   "toc_cell": false,
   "toc_position": {},
   "toc_section_display": true,
   "toc_window_display": false
  }
 },
 "nbformat": 4,
 "nbformat_minor": 2
}
